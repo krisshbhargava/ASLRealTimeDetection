{
 "cells": [
  {
   "cell_type": "code",
   "execution_count": 2,
   "id": "1718d3cf-1cde-4742-9f14-f5245edc8503",
   "metadata": {},
   "outputs": [],
   "source": [
    "import cv2\n",
    "import os\n",
    "import time\n",
    "import uuid "
   ]
  },
  {
   "cell_type": "code",
   "execution_count": 3,
   "id": "98d73a3f-b8ad-4076-949f-601475e100be",
   "metadata": {},
   "outputs": [],
   "source": [
    "IMAGES_PATH = 'Tensorflow/workspace/images/collectedimages'"
   ]
  },
  {
   "cell_type": "code",
   "execution_count": 4,
   "id": "7f542c98-f260-45aa-bc37-fa7951cbaf59",
   "metadata": {},
   "outputs": [],
   "source": [
    "labels = ['hello', 'thanks', 'yes', 'no', 'iloveyou']\n",
    "number_imgs = 15"
   ]
  },
  {
   "cell_type": "code",
   "execution_count": 5,
   "id": "8a04766c-a01c-41b2-a144-bf2c876722ce",
   "metadata": {
    "scrolled": true
   },
   "outputs": [
    {
     "name": "stdout",
     "output_type": "stream",
     "text": [
      "Collecting images for hello\n",
      "Collecting images for thanks\n",
      "Collecting images for yes\n",
      "Collecting images for no\n",
      "Collecting images for iloveyou\n",
      "Done\n"
     ]
    }
   ],
   "source": [
    "for label in labels:#iterates through labels\n",
    "    !mkdir {'./Tensorflow/workspace/images/collectedimages//'+label}#creates new directories for each label\n",
    "    cap = cv2.VideoCapture(0)\n",
    "    print('Collecting images for {}'.format(label)) #prints which label collecting images for\n",
    "    time.sleep(5)\n",
    "    for imgnum in range(number_imgs): #loops through all images\n",
    "        ret, frame = cap.read() #sets up capture --> frame represents image\n",
    "        unique_id = str(uuid.uuid1())\n",
    "        imgname = os.path.join(IMAGES_PATH, label, f\"{label}.{unique_id}.jpg\")\n",
    "        cv2.imwrite(imgname, frame) #writes image to specific directory\n",
    "        cv2.imshow('frame', frame) #shows writing to screen\n",
    "        time.sleep(2)\n",
    "\n",
    "        if cv2.waitKey(1) & 0xFF == ord('q'):#press q key to exit & quit\n",
    "            break\n",
    "    cap.release() #releases image recognition\n",
    "print(\"Done\")"
   ]
  },
  {
   "cell_type": "code",
   "execution_count": null,
   "id": "a1656532-0ff0-47ce-9748-79b9491d5f1b",
   "metadata": {},
   "outputs": [],
   "source": []
  },
  {
   "cell_type": "code",
   "execution_count": null,
   "id": "886bfa24-9370-4e06-8729-39536f1ae7f0",
   "metadata": {},
   "outputs": [],
   "source": []
  }
 ],
 "metadata": {
  "kernelspec": {
   "display_name": "Python (projectenv)",
   "language": "python",
   "name": "projectenv"
  },
  "language_info": {
   "codemirror_mode": {
    "name": "ipython",
    "version": 3
   },
   "file_extension": ".py",
   "mimetype": "text/x-python",
   "name": "python",
   "nbconvert_exporter": "python",
   "pygments_lexer": "ipython3",
   "version": "3.8.18"
  }
 },
 "nbformat": 4,
 "nbformat_minor": 5
}
